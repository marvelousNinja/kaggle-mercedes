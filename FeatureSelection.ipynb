{
 "cells": [
  {
   "cell_type": "code",
   "execution_count": 114,
   "metadata": {
    "collapsed": false,
    "deletable": true,
    "editable": true,
    "scrolled": true
   },
   "outputs": [],
   "source": [
    "import pandas as pd\n",
    "\n",
    "train = pd.read_csv('./train.csv')\n",
    "test = pd.read_csv('./test.csv')\n",
    "answer = train.y\n",
    "train = train.drop('y', axis=1)\n",
    "complete = pd.concat([train, test])\n",
    "\n",
    "column_types = complete.dtypes\n",
    "categorical_columns = column_types[column_types == 'object'].index.values\n",
    "numeric = complete.select_dtypes(include=['int64'])\n",
    "encoded_categorical = pd.get_dummies(complete[categorical_columns])\n",
    "factorized_categorical = pd.DataFrame()\n",
    "\n",
    "for column in categorical_columns:\n",
    "    factorized_complete[column + '_factor'] = pd.Series(pd.factorize(complete[column], sort=True)[0], complete[column].index.values)\n",
    "    \n",
    "complete = pd.concat([numeric, encoded_complete, factorized_complete], axis=1)\n",
    "\n",
    "train = complete.head(len(train))\n",
    "test = complete.tail(len(test))"
   ]
  },
  {
   "cell_type": "code",
   "execution_count": 115,
   "metadata": {
    "collapsed": false
   },
   "outputs": [
    {
     "name": "stdout",
     "output_type": "stream",
     "text": [
      "Iteration: \t1 / 100\n",
      "Confirmed: \t0\n",
      "Tentative: \t377\n",
      "Rejected: \t0\n",
      "Iteration: \t2 / 100\n",
      "Confirmed: \t0\n",
      "Tentative: \t377\n",
      "Rejected: \t0\n",
      "Iteration: \t3 / 100\n",
      "Confirmed: \t0\n",
      "Tentative: \t377\n",
      "Rejected: \t0\n",
      "Iteration: \t4 / 100\n",
      "Confirmed: \t0\n",
      "Tentative: \t377\n",
      "Rejected: \t0\n",
      "Iteration: \t5 / 100\n",
      "Confirmed: \t0\n",
      "Tentative: \t377\n",
      "Rejected: \t0\n",
      "Iteration: \t6 / 100\n",
      "Confirmed: \t0\n",
      "Tentative: \t377\n",
      "Rejected: \t0\n",
      "Iteration: \t7 / 100\n",
      "Confirmed: \t0\n",
      "Tentative: \t377\n",
      "Rejected: \t0\n",
      "Iteration: \t8 / 100\n",
      "Confirmed: \t0\n",
      "Tentative: \t7\n",
      "Rejected: \t370\n",
      "Iteration: \t9 / 100\n",
      "Confirmed: \t1\n",
      "Tentative: \t6\n",
      "Rejected: \t370\n",
      "Iteration: \t10 / 100\n",
      "Confirmed: \t1\n",
      "Tentative: \t6\n",
      "Rejected: \t370\n",
      "Iteration: \t11 / 100\n",
      "Confirmed: \t1\n",
      "Tentative: \t6\n",
      "Rejected: \t370\n",
      "Iteration: \t12 / 100\n",
      "Confirmed: \t2\n",
      "Tentative: \t4\n",
      "Rejected: \t371\n",
      "Iteration: \t13 / 100\n",
      "Confirmed: \t2\n",
      "Tentative: \t4\n",
      "Rejected: \t371\n",
      "Iteration: \t14 / 100\n",
      "Confirmed: \t2\n",
      "Tentative: \t4\n",
      "Rejected: \t371\n",
      "Iteration: \t15 / 100\n",
      "Confirmed: \t2\n",
      "Tentative: \t4\n",
      "Rejected: \t371\n",
      "Iteration: \t16 / 100\n",
      "Confirmed: \t2\n",
      "Tentative: \t4\n",
      "Rejected: \t371\n",
      "Iteration: \t17 / 100\n",
      "Confirmed: \t2\n",
      "Tentative: \t4\n",
      "Rejected: \t371\n",
      "Iteration: \t18 / 100\n",
      "Confirmed: \t2\n",
      "Tentative: \t4\n",
      "Rejected: \t371\n",
      "Iteration: \t19 / 100\n",
      "Confirmed: \t2\n",
      "Tentative: \t4\n",
      "Rejected: \t371\n",
      "Iteration: \t20 / 100\n",
      "Confirmed: \t2\n",
      "Tentative: \t4\n",
      "Rejected: \t371\n",
      "Iteration: \t21 / 100\n",
      "Confirmed: \t2\n",
      "Tentative: \t4\n",
      "Rejected: \t371\n",
      "Iteration: \t22 / 100\n",
      "Confirmed: \t2\n",
      "Tentative: \t4\n",
      "Rejected: \t371\n",
      "Iteration: \t23 / 100\n",
      "Confirmed: \t2\n",
      "Tentative: \t4\n",
      "Rejected: \t371\n",
      "Iteration: \t24 / 100\n",
      "Confirmed: \t2\n",
      "Tentative: \t4\n",
      "Rejected: \t371\n",
      "Iteration: \t25 / 100\n",
      "Confirmed: \t2\n",
      "Tentative: \t4\n",
      "Rejected: \t371\n",
      "Iteration: \t26 / 100\n",
      "Confirmed: \t2\n",
      "Tentative: \t4\n",
      "Rejected: \t371\n",
      "Iteration: \t27 / 100\n",
      "Confirmed: \t2\n",
      "Tentative: \t4\n",
      "Rejected: \t371\n",
      "Iteration: \t28 / 100\n",
      "Confirmed: \t2\n",
      "Tentative: \t4\n",
      "Rejected: \t371\n",
      "Iteration: \t29 / 100\n",
      "Confirmed: \t2\n",
      "Tentative: \t3\n",
      "Rejected: \t372\n",
      "Iteration: \t30 / 100\n",
      "Confirmed: \t2\n",
      "Tentative: \t3\n",
      "Rejected: \t372\n",
      "Iteration: \t31 / 100\n",
      "Confirmed: \t2\n",
      "Tentative: \t3\n",
      "Rejected: \t372\n",
      "Iteration: \t32 / 100\n",
      "Confirmed: \t2\n",
      "Tentative: \t1\n",
      "Rejected: \t374\n",
      "Iteration: \t33 / 100\n",
      "Confirmed: \t2\n",
      "Tentative: \t1\n",
      "Rejected: \t374\n",
      "Iteration: \t34 / 100\n",
      "Confirmed: \t2\n",
      "Tentative: \t0\n",
      "Rejected: \t375\n",
      "\n",
      "\n",
      "BorutaPy finished running.\n",
      "\n",
      "Iteration: \t35 / 100\n",
      "Confirmed: \t2\n",
      "Tentative: \t0\n",
      "Rejected: \t375\n",
      "[ True False False False False False False False False False False False\n",
      " False False False False False False False False False False False False\n",
      " False False False False False False False False False False False False\n",
      " False False False False False False False False False False False False\n",
      " False False False False False False False False False False False False\n",
      " False False False False False False False False False False False False\n",
      " False False False False False False False False False False False False\n",
      " False False False False False False False False False False False False\n",
      " False False False False False False False False False False False False\n",
      " False False False False False False False False False False False False\n",
      " False False False False False False False False False False False False\n",
      " False False False False False False False False False False False False\n",
      " False False False False False False False False False False False False\n",
      " False False False False False False False False False False False False\n",
      " False False False False False False False False False False False False\n",
      " False False False False False False False False False False False False\n",
      " False False False False False False False False False False False False\n",
      " False False False False False False False False False False False False\n",
      " False False False False False False False False False False False False\n",
      " False False False False False False False False False False False False\n",
      " False False False False False False False False False False False False\n",
      " False False False False False False False False False False False False\n",
      " False False False False False False False False False False False False\n",
      " False False False False False False False False False False False False\n",
      " False False False False False False False False False False  True False\n",
      " False False False False False False False False False False False False\n",
      " False False False False False False False False False False False False\n",
      " False False False False False False False False False False False False\n",
      " False False False False False False False False False False False False\n",
      " False False False False False False False False False False False False\n",
      " False False False False False False False False False False False False\n",
      " False False False False False]\n",
      "[  1 200 370  41  81 101 290 204 319 179 126  81 274  73  89 322  51  37\n",
      " 218   9 305 117 263 359 197  95 255 126 211 354 279 154 354 146 294 135\n",
      "  43  16 170 152  83  35 154 335  12 247 221 260  99 349 337 122 326 212\n",
      "  32  34 234 290 146 191  22 138  47 273 244  12  55 201 229 255  61 199\n",
      " 195 142  65  49 335 272 309 283 261 346 370 286  30  57 202 210 267  43\n",
      " 228 301 104  22 144 231 370 296  84 307 188 302 161 140  45  76  98   4\n",
      "   4 173 270 251 354 268 264   7 180 163 245 130  47  95 166 150   6  90\n",
      " 205  62 222 182  38 208  78 226 214 176 232  58  40  86 254  68 167 110\n",
      " 113  80 314 344 142 178  74  92 238 307 350  69 192 212  70 314  88 187\n",
      " 159 172 102 135 208  60  70 110 296 274 287 152 168  19 334 103 320 160\n",
      " 148 128 227 266 332 236  76 157 241 253  90 206 311 214 120 356 243 270\n",
      " 300 318 113 320 259  53 161  35 299 158 112  79  56  92 280 217 176 242\n",
      " 118   9 370 131 370 192 276 246 330 186  62 284 282 135 327 137 168 338\n",
      " 265 133 151 348 338 239 278 180 360 327 363 304 292 268   3 285 249 261\n",
      "  27 370 357 362 237 312  65 302  45 310 345 352   7 341 340 298  38 139\n",
      " 116 121  51 357 370 370 240 247 370 115 360 364 370 250 257 105 126 292\n",
      " 183 203 198 276 317 232 314  31 224 156   1   2 144 290 343 307 281  85\n",
      "  28 251 100 331 105  72 324  67 370 224 196 185 118 323 123  97 222  24\n",
      "  74  32  29 141 175  24 218 370 257 173  49  54 220 235  87  64 129 324\n",
      " 123 165 164 109 132  95 194 189 189 206 170 351 314 288 346 184  42  58\n",
      " 148 107 294 216 229 332  26 329 341  15  19  17  21 108  14  17  11]\n",
      "Index([u'ID', u'X314'], dtype='object')\n"
     ]
    }
   ],
   "source": [
    "from boruta import BorutaPy\n",
    "from sklearn.ensemble import RandomForestRegressor\n",
    "\n",
    "rf = RandomForestRegressor(n_jobs=-1)\n",
    "feature_selector = BorutaPy(rf, n_estimators='auto', verbose=2)\n",
    "feature_selector.fit(train.values, answer.values)\n",
    "\n",
    "print(feature_selector.support_)\n",
    "print (feature_selector.ranking_)\n",
    "print train.columns[feature_selector.support_]"
   ]
  },
  {
   "cell_type": "code",
   "execution_count": 118,
   "metadata": {
    "collapsed": false
   },
   "outputs": [
    {
     "name": "stdout",
     "output_type": "stream",
     "text": [
      "Best combination (r2: 0.576): (192, 265, 331, 76, 335, 273, 274, 275, 341, 282, 28, 218, 32, 112, 37, 294, 233, 175, 368, 369, 115, 309, 118, 255)\n",
      "\n",
      "('All subsets:\\n', {1: {'avg_score': 0.55640182795837245, 'feature_idx': (369,), 'cv_scores': array([ 0.60524173,  0.43687155,  0.57536392,  0.53549933,  0.62903262])}, 2: {'avg_score': 0.5677359047974887, 'feature_idx': (369, 115), 'cv_scores': array([ 0.6212198 ,  0.43410462,  0.59718211,  0.54762589,  0.6385471 ])}, 3: {'avg_score': 0.57215197919530725, 'feature_idx': (369, 115, 37), 'cv_scores': array([ 0.6273771 ,  0.43542979,  0.59896451,  0.55345497,  0.64553353])}, 4: {'avg_score': 0.57335693947178235, 'feature_idx': (369, 115, 37, 335), 'cv_scores': array([ 0.62816084,  0.43707621,  0.60201561,  0.55533284,  0.6441992 ])}, 5: {'avg_score': 0.57407484683649668, 'feature_idx': (369, 115, 28, 37, 335), 'cv_scores': array([ 0.62758512,  0.4368771 ,  0.60197441,  0.5557762 ,  0.64816141])}, 6: {'avg_score': 0.5746061908358685, 'feature_idx': (369, 115, 37, 118, 28, 335), 'cv_scores': array([ 0.62690104,  0.43811608,  0.60209988,  0.55756008,  0.64835388])}, 7: {'avg_score': 0.57586812402033372, 'feature_idx': (369, 115, 37, 118, 175, 28, 335), 'cv_scores': array([ 0.62889482,  0.43897082,  0.60223301,  0.56060339,  0.64863857])}, 8: {'avg_score': 0.57593981992718746, 'feature_idx': (369, 115, 37, 118, 335, 28, 255, 175), 'cv_scores': array([ 0.62891712,  0.4390315 ,  0.60223301,  0.56060339,  0.64891408])}, 9: {'avg_score': 0.57595009630449823, 'feature_idx': (37, 273, 335, 369, 115, 118, 175, 28, 255), 'cv_scores': array([ 0.62872094,  0.43897464,  0.60224431,  0.56089652,  0.64891408])}, 10: {'avg_score': 0.5759573179310441, 'feature_idx': (37, 273, 335, 368, 369, 115, 118, 175, 28, 255), 'cv_scores': array([ 0.62875705,  0.43897464,  0.60224431,  0.56089652,  0.64891408])}, 11: {'avg_score': 0.57596118010282926, 'feature_idx': (37, 273, 275, 335, 368, 369, 115, 118, 175, 28, 255), 'cv_scores': array([ 0.62877636,  0.43897464,  0.60224431,  0.56089652,  0.64891408])}, 12: {'avg_score': 0.57596581940440672, 'feature_idx': (112, 37, 273, 275, 335, 368, 369, 115, 118, 175, 28, 255), 'cv_scores': array([ 0.62879956,  0.43897464,  0.60224431,  0.56089652,  0.64891408])}, 13: {'avg_score': 0.57595902697586188, 'feature_idx': (112, 37, 273, 275, 335, 368, 369, 115, 341, 118, 175, 28, 255), 'cv_scores': array([ 0.62876559,  0.43897464,  0.60224431,  0.56089652,  0.64891408])}, 14: {'avg_score': 0.57596363171250775, 'feature_idx': (112, 37, 273, 275, 331, 335, 368, 369, 115, 341, 118, 175, 28, 255), 'cv_scores': array([ 0.62878862,  0.43897464,  0.60224431,  0.56089652,  0.64891408])}, 15: {'avg_score': 0.57596596728951233, 'feature_idx': (112, 37, 294, 273, 275, 331, 335, 368, 369, 115, 341, 118, 175, 28, 255), 'cv_scores': array([ 0.6287788 ,  0.43897464,  0.6022658 ,  0.56089652,  0.64891408])}, 16: {'avg_score': 0.57596995621793756, 'feature_idx': (112, 37, 294, 273, 275, 331, 335, 368, 369, 115, 341, 118, 309, 175, 28, 255), 'cv_scores': array([ 0.62879874,  0.43897464,  0.6022658 ,  0.56089652,  0.64891408])}, 17: {'avg_score': 0.57596966058724308, 'feature_idx': (331, 335, 273, 275, 341, 28, 112, 37, 294, 233, 175, 368, 369, 115, 309, 118, 255), 'cv_scores': array([ 0.62879726,  0.43897464,  0.6022658 ,  0.56089652,  0.64891408])}, 18: {'avg_score': 0.57596793125880097, 'feature_idx': (331, 335, 273, 275, 341, 282, 28, 112, 37, 294, 233, 175, 368, 369, 115, 309, 118, 255), 'cv_scores': array([ 0.62878862,  0.43897464,  0.6022658 ,  0.56089652,  0.64891408])}, 19: {'avg_score': 0.57597134017500839, 'feature_idx': (331, 335, 273, 275, 341, 282, 28, 32, 112, 37, 294, 233, 175, 368, 369, 115, 309, 118, 255), 'cv_scores': array([ 0.62880566,  0.43897464,  0.6022658 ,  0.56089652,  0.64891408])}, 20: {'avg_score': 0.57597222865742903, 'feature_idx': (331, 76, 335, 273, 275, 341, 282, 28, 32, 112, 37, 294, 233, 175, 368, 369, 115, 309, 118, 255), 'cv_scores': array([ 0.62881011,  0.43897464,  0.6022658 ,  0.56089652,  0.64891408])}, 21: {'avg_score': 0.57597462768490559, 'feature_idx': (192, 331, 76, 335, 273, 275, 341, 282, 28, 32, 112, 37, 294, 233, 175, 368, 369, 115, 309, 118, 255), 'cv_scores': array([ 0.62881011,  0.43897464,  0.6022658 ,  0.56090851,  0.64891408])}, 22: {'avg_score': 0.57597129858319385, 'feature_idx': (192, 331, 76, 335, 273, 275, 341, 282, 28, 218, 32, 368, 37, 294, 233, 175, 112, 369, 115, 309, 118, 255), 'cv_scores': array([ 0.62879346,  0.43897464,  0.6022658 ,  0.56090851,  0.64891408])}, 23: {'avg_score': 0.57597070046576493, 'feature_idx': (192, 265, 331, 76, 335, 273, 275, 341, 282, 28, 218, 32, 112, 37, 294, 233, 175, 368, 369, 115, 309, 118, 255), 'cv_scores': array([ 0.62879047,  0.43897464,  0.6022658 ,  0.56090851,  0.64891408])}, 24: {'avg_score': 0.57596871701593344, 'feature_idx': (192, 265, 331, 76, 335, 273, 274, 275, 341, 282, 28, 218, 32, 112, 37, 294, 233, 175, 368, 369, 115, 309, 118, 255), 'cv_scores': array([ 0.62879255,  0.43897464,  0.6022658 ,  0.56089652,  0.64891408])}})\n"
     ]
    },
    {
     "name": "stderr",
     "output_type": "stream",
     "text": [
      "\n",
      "STOPPING EARLY DUE TO KEYBOARD INTERRUPT..."
     ]
    },
    {
     "ename": "NameError",
     "evalue": "name 'columns' is not defined",
     "output_type": "error",
     "traceback": [
      "\u001b[0;31m---------------------------------------------------------------------------\u001b[0m",
      "\u001b[0;31mNameError\u001b[0m                                 Traceback (most recent call last)",
      "\u001b[0;32m<ipython-input-118-ebfe611ee3fa>\u001b[0m in \u001b[0;36m<module>\u001b[0;34m()\u001b[0m\n\u001b[1;32m     14\u001b[0m \u001b[0;32mprint\u001b[0m\u001b[0;34m(\u001b[0m\u001b[0;34m'All subsets:\\n'\u001b[0m\u001b[0;34m,\u001b[0m \u001b[0msfs\u001b[0m\u001b[0;34m.\u001b[0m\u001b[0msubsets_\u001b[0m\u001b[0;34m)\u001b[0m\u001b[0;34m\u001b[0m\u001b[0m\n\u001b[1;32m     15\u001b[0m \u001b[0;34m\u001b[0m\u001b[0m\n\u001b[0;32m---> 16\u001b[0;31m \u001b[0;32mprint\u001b[0m\u001b[0;34m(\u001b[0m\u001b[0mtrain\u001b[0m\u001b[0;34m[\u001b[0m\u001b[0mcolumns\u001b[0m\u001b[0;34m]\u001b[0m\u001b[0;34m[\u001b[0m\u001b[0msfs\u001b[0m\u001b[0;34m.\u001b[0m\u001b[0mk_feature_idx_\u001b[0m\u001b[0;34m]\u001b[0m\u001b[0;34m)\u001b[0m\u001b[0;34m\u001b[0m\u001b[0m\n\u001b[0m",
      "\u001b[0;31mNameError\u001b[0m: name 'columns' is not defined"
     ]
    }
   ],
   "source": [
    "from mlxtend.feature_selection import SequentialFeatureSelector\n",
    "from sklearn.ensemble import GradientBoostingRegressor\n",
    "\n",
    "sfs = SequentialFeatureSelector(estimator=GradientBoostingRegressor(), \n",
    "           k_features=40,\n",
    "           forward=True,\n",
    "           floating=False,\n",
    "           scoring='r2',\n",
    "           cv=5)\n",
    "\n",
    "sfs.fit(train.values, answer.values)\n",
    "\n",
    "print('Best combination (r2: %.3f): %s\\n' % (sfs.k_score_, sfs.k_feature_idx_))\n",
    "print('All subsets:\\n', sfs.subsets_)\n",
    "print(train.columns[list(sfs.k_feature_idx_)])"
   ]
  },
  {
   "cell_type": "code",
   "execution_count": 123,
   "metadata": {
    "collapsed": false
   },
   "outputs": [
    {
     "ename": "IndexError",
     "evalue": "too many indices for array",
     "output_type": "error",
     "traceback": [
      "\u001b[0;31m---------------------------------------------------------------------------\u001b[0m",
      "\u001b[0;31mIndexError\u001b[0m                                Traceback (most recent call last)",
      "\u001b[0;32m<ipython-input-123-abcd601e6e0c>\u001b[0m in \u001b[0;36m<module>\u001b[0;34m()\u001b[0m\n\u001b[0;32m----> 1\u001b[0;31m \u001b[0;32mprint\u001b[0m\u001b[0;34m(\u001b[0m\u001b[0mtrain\u001b[0m\u001b[0;34m.\u001b[0m\u001b[0mcolumns\u001b[0m\u001b[0;34m[\u001b[0m\u001b[0msfs\u001b[0m\u001b[0;34m.\u001b[0m\u001b[0mk_feature_idx_\u001b[0m\u001b[0;34m]\u001b[0m\u001b[0;34m)\u001b[0m\u001b[0;34m\u001b[0m\u001b[0m\n\u001b[0m",
      "\u001b[0;32m/usr/local/lib/python2.7/site-packages/pandas/indexes/base.pyc\u001b[0m in \u001b[0;36m__getitem__\u001b[0;34m(self, key)\u001b[0m\n\u001b[1;32m   1432\u001b[0m \u001b[0;34m\u001b[0m\u001b[0m\n\u001b[1;32m   1433\u001b[0m         \u001b[0mkey\u001b[0m \u001b[0;34m=\u001b[0m \u001b[0m_values_from_object\u001b[0m\u001b[0;34m(\u001b[0m\u001b[0mkey\u001b[0m\u001b[0;34m)\u001b[0m\u001b[0;34m\u001b[0m\u001b[0m\n\u001b[0;32m-> 1434\u001b[0;31m         \u001b[0mresult\u001b[0m \u001b[0;34m=\u001b[0m \u001b[0mgetitem\u001b[0m\u001b[0;34m(\u001b[0m\u001b[0mkey\u001b[0m\u001b[0;34m)\u001b[0m\u001b[0;34m\u001b[0m\u001b[0m\n\u001b[0m\u001b[1;32m   1435\u001b[0m         \u001b[0;32mif\u001b[0m \u001b[0;32mnot\u001b[0m \u001b[0mis_scalar\u001b[0m\u001b[0;34m(\u001b[0m\u001b[0mresult\u001b[0m\u001b[0;34m)\u001b[0m\u001b[0;34m:\u001b[0m\u001b[0;34m\u001b[0m\u001b[0m\n\u001b[1;32m   1436\u001b[0m             \u001b[0;32mreturn\u001b[0m \u001b[0mpromote\u001b[0m\u001b[0;34m(\u001b[0m\u001b[0mresult\u001b[0m\u001b[0;34m)\u001b[0m\u001b[0;34m\u001b[0m\u001b[0m\n",
      "\u001b[0;31mIndexError\u001b[0m: too many indices for array"
     ]
    }
   ],
   "source": [
    "print(train.columns[sfs.k_feature_idx_])"
   ]
  },
  {
   "cell_type": "code",
   "execution_count": 124,
   "metadata": {
    "collapsed": false
   },
   "outputs": [
    {
     "data": {
      "text/plain": [
       "(192,\n",
       " 265,\n",
       " 331,\n",
       " 76,\n",
       " 335,\n",
       " 273,\n",
       " 274,\n",
       " 275,\n",
       " 341,\n",
       " 282,\n",
       " 28,\n",
       " 218,\n",
       " 32,\n",
       " 112,\n",
       " 37,\n",
       " 294,\n",
       " 233,\n",
       " 175,\n",
       " 368,\n",
       " 369,\n",
       " 115,\n",
       " 309,\n",
       " 118,\n",
       " 255)"
      ]
     },
     "execution_count": 124,
     "metadata": {},
     "output_type": "execute_result"
    }
   ],
   "source": [
    "sfs.k_feature_idx_"
   ]
  },
  {
   "cell_type": "code",
   "execution_count": 137,
   "metadata": {
    "collapsed": false
   },
   "outputs": [
    {
     "data": {
      "text/plain": [
       "Index([u'X207', u'X280', u'X347', u'X87', u'X351', u'X288', u'X289', u'X290',\n",
       "       u'X357', u'X297', u'X38', u'X233', u'X42', u'X124', u'X47', u'X310',\n",
       "       u'X248', u'X189', u'X385', u'X0_factor', u'X127', u'X325', u'X130',\n",
       "       u'X270'],\n",
       "      dtype='object')"
      ]
     },
     "execution_count": 137,
     "metadata": {},
     "output_type": "execute_result"
    }
   ],
   "source": [
    "train.columns[list(sfs.k_feature_idx_)]"
   ]
  },
  {
   "cell_type": "code",
   "execution_count": 138,
   "metadata": {
    "collapsed": false
   },
   "outputs": [
    {
     "data": {
      "text/plain": [
       "'X127'"
      ]
     },
     "execution_count": 138,
     "metadata": {},
     "output_type": "execute_result"
    }
   ],
   "source": [
    "train.columns[115]"
   ]
  },
  {
   "cell_type": "code",
   "execution_count": 135,
   "metadata": {
    "collapsed": false
   },
   "outputs": [
    {
     "data": {
      "text/plain": [
       "[192,\n",
       " 265,\n",
       " 331,\n",
       " 76,\n",
       " 335,\n",
       " 273,\n",
       " 274,\n",
       " 275,\n",
       " 341,\n",
       " 282,\n",
       " 28,\n",
       " 218,\n",
       " 32,\n",
       " 112,\n",
       " 37,\n",
       " 294,\n",
       " 233,\n",
       " 175,\n",
       " 368,\n",
       " 369,\n",
       " 115,\n",
       " 309,\n",
       " 118,\n",
       " 255]"
      ]
     },
     "execution_count": 135,
     "metadata": {},
     "output_type": "execute_result"
    }
   ],
   "source": [
    "list(sfs.k_feature_idx_)"
   ]
  },
  {
   "cell_type": "code",
   "execution_count": 139,
   "metadata": {
    "collapsed": false
   },
   "outputs": [
    {
     "data": {
      "text/plain": [
       "Index([u'X207', u'X280', u'X347', u'X87', u'X351', u'X288', u'X289', u'X290',\n",
       "       u'X357', u'X297', u'X38', u'X233', u'X42', u'X124', u'X47', u'X310',\n",
       "       u'X248', u'X189', u'X385', u'X0_factor', u'X127', u'X325', u'X130',\n",
       "       u'X270'],\n",
       "      dtype='object')"
      ]
     },
     "execution_count": 139,
     "metadata": {},
     "output_type": "execute_result"
    }
   ],
   "source": [
    "train.columns[[192, 265, 331, 76, 335, 273, 274, 275, 341, 282, 28, 218, 32, 112, 37, 294, 233, 175, 368, 369, 115, 309, 118, 255]]"
   ]
  },
  {
   "cell_type": "code",
   "execution_count": null,
   "metadata": {
    "collapsed": true
   },
   "outputs": [],
   "source": []
  }
 ],
 "metadata": {
  "kernelspec": {
   "display_name": "Python 2",
   "language": "python",
   "name": "python2"
  },
  "language_info": {
   "codemirror_mode": {
    "name": "ipython",
    "version": 2
   },
   "file_extension": ".py",
   "mimetype": "text/x-python",
   "name": "python",
   "nbconvert_exporter": "python",
   "pygments_lexer": "ipython2",
   "version": "2.7.10"
  }
 },
 "nbformat": 4,
 "nbformat_minor": 2
}
